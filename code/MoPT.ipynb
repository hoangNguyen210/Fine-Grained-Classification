{
  "cells": [
    {
      "cell_type": "markdown",
      "source": [
        "# Import Libraries"
      ],
      "metadata": {
        "id": "f50kgNjgfbcj"
      }
    },
    {
      "cell_type": "code",
      "execution_count": 1,
      "metadata": {
        "colab": {
          "base_uri": "https://localhost:8080/"
        },
        "id": "UxcGdq-T8FeB",
        "outputId": "1ca3eae8-83a3-490b-ec66-438ad227ce4f"
      },
      "outputs": [
        {
          "output_type": "stream",
          "name": "stdout",
          "text": [
            "Drive already mounted at /content/drive; to attempt to forcibly remount, call drive.mount(\"/content/drive\", force_remount=True).\n"
          ]
        }
      ],
      "source": [
        "from google.colab import drive\n",
        "drive.mount('/content/drive')"
      ]
    },
    {
      "cell_type": "code",
      "execution_count": 2,
      "metadata": {
        "id": "3R7V66js79SO"
      },
      "outputs": [],
      "source": [
        "import os\n",
        "import re\n",
        "import numpy as np\n",
        "import pandas as pd\n",
        "import tensorflow as tf\n",
        "\n",
        "# pd.set_option('display.max_colwidth', 200)\n",
        "# import tarfile\n",
        "# import scipy.io\n",
        "# from collections import defaultdict\n",
        "\n",
        "import matplotlib.pyplot as plt\n",
        "\n",
        "from tensorflow import keras\n",
        "from tensorflow.keras.callbacks import *\n",
        "from tensorflow.keras import backend as K\n",
        "from tensorflow.keras.utils import to_categorical\n",
        "from tensorflow.keras.applications import DenseNet201\n",
        "from tensorflow.keras.layers import Dense, Dropout, GlobalAveragePooling2D, BatchNormalization\n",
        "\n",
        "# from tensorflow.keras import activations as Ac\n",
        "\n",
        "\n",
        "\n",
        "\n",
        "# from efficientnet.tfkeras import EfficientNetB3"
      ]
    },
    {
      "cell_type": "code",
      "source": [
        "# For tf.dataset\n",
        "AUTO = tf.data.experimental.AUTOTUNE"
      ],
      "metadata": {
        "id": "cHR0x9svYZk_"
      },
      "execution_count": 3,
      "outputs": []
    },
    {
      "cell_type": "code",
      "execution_count": 4,
      "metadata": {
        "colab": {
          "base_uri": "https://localhost:8080/"
        },
        "id": "_0IjbFmagZkO",
        "outputId": "963ce5e4-6086-4c37-dd87-782245910e67"
      },
      "outputs": [
        {
          "output_type": "stream",
          "name": "stdout",
          "text": [
            "Looking in indexes: https://pypi.org/simple, https://us-python.pkg.dev/colab-wheels/public/simple/\n",
            "Requirement already satisfied: tensorflow_addons in /usr/local/lib/python3.7/dist-packages (0.17.0)\n",
            "Requirement already satisfied: packaging in /usr/local/lib/python3.7/dist-packages (from tensorflow_addons) (21.3)\n",
            "Requirement already satisfied: typeguard>=2.7 in /usr/local/lib/python3.7/dist-packages (from tensorflow_addons) (2.7.1)\n",
            "Requirement already satisfied: pyparsing!=3.0.5,>=2.0.2 in /usr/local/lib/python3.7/dist-packages (from packaging->tensorflow_addons) (3.0.9)\n"
          ]
        }
      ],
      "source": [
        "!pip install tensorflow_addons"
      ]
    },
    {
      "cell_type": "code",
      "execution_count": 5,
      "metadata": {
        "id": "hE7jnYWzgXQl"
      },
      "outputs": [],
      "source": [
        "from tensorflow import keras\n",
        "import tensorflow_addons as tfa\n",
        "from tensorflow.keras import Sequential,Model\n",
        "from keras.layers import GlobalAveragePooling2D\n",
        "from tensorflow.keras.layers import Dense, Dropout, Activation, Flatten , Input ,BatchNormalization, Concatenate, Layer , Maximum , Softmax\n",
        "from tensorflow.keras.layers import  GlobalAveragePooling2D, AveragePooling2D , Conv1D , MaxPooling1D, Average, Dropout, LayerNormalization\n",
        "from tensorflow.keras.layers import Conv2D, MaxPooling2D, LSTM, GRU, ReLU\n",
        "from tensorflow.keras.utils import to_categorical\n",
        "from tensorflow.keras.callbacks import ModelCheckpoint\n",
        "\n",
        "from tensorflow.keras import regularizers\n",
        "from tensorflow.keras import backend as K\n",
        "\n",
        "from sklearn.model_selection import train_test_split\n",
        "from sklearn.metrics import accuracy_score"
      ]
    },
    {
      "cell_type": "markdown",
      "source": [
        "# Read dataset"
      ],
      "metadata": {
        "id": "t0TzIfAGfeta"
      }
    },
    {
      "cell_type": "code",
      "execution_count": 6,
      "metadata": {
        "colab": {
          "base_uri": "https://localhost:8080/",
          "height": 206
        },
        "id": "5LVbcsHv79SQ",
        "outputId": "c6cbdb7e-a4cc-4012-9d08-9c7e80fb8387"
      },
      "outputs": [
        {
          "output_type": "execute_result",
          "data": {
            "text/plain": [
              "      filename  Classes  Labels\n",
              "0  1025794.jpg  707-320       0\n",
              "1  1340192.jpg  707-320       0\n",
              "2  0056978.jpg  707-320       0\n",
              "3  0698580.jpg  707-320       0\n",
              "4  0450014.jpg  707-320       0"
            ],
            "text/html": [
              "\n",
              "  <div id=\"df-f0e8d4f5-0edf-4f93-9f59-5bd4a70b9079\">\n",
              "    <div class=\"colab-df-container\">\n",
              "      <div>\n",
              "<style scoped>\n",
              "    .dataframe tbody tr th:only-of-type {\n",
              "        vertical-align: middle;\n",
              "    }\n",
              "\n",
              "    .dataframe tbody tr th {\n",
              "        vertical-align: top;\n",
              "    }\n",
              "\n",
              "    .dataframe thead th {\n",
              "        text-align: right;\n",
              "    }\n",
              "</style>\n",
              "<table border=\"1\" class=\"dataframe\">\n",
              "  <thead>\n",
              "    <tr style=\"text-align: right;\">\n",
              "      <th></th>\n",
              "      <th>filename</th>\n",
              "      <th>Classes</th>\n",
              "      <th>Labels</th>\n",
              "    </tr>\n",
              "  </thead>\n",
              "  <tbody>\n",
              "    <tr>\n",
              "      <th>0</th>\n",
              "      <td>1025794.jpg</td>\n",
              "      <td>707-320</td>\n",
              "      <td>0</td>\n",
              "    </tr>\n",
              "    <tr>\n",
              "      <th>1</th>\n",
              "      <td>1340192.jpg</td>\n",
              "      <td>707-320</td>\n",
              "      <td>0</td>\n",
              "    </tr>\n",
              "    <tr>\n",
              "      <th>2</th>\n",
              "      <td>0056978.jpg</td>\n",
              "      <td>707-320</td>\n",
              "      <td>0</td>\n",
              "    </tr>\n",
              "    <tr>\n",
              "      <th>3</th>\n",
              "      <td>0698580.jpg</td>\n",
              "      <td>707-320</td>\n",
              "      <td>0</td>\n",
              "    </tr>\n",
              "    <tr>\n",
              "      <th>4</th>\n",
              "      <td>0450014.jpg</td>\n",
              "      <td>707-320</td>\n",
              "      <td>0</td>\n",
              "    </tr>\n",
              "  </tbody>\n",
              "</table>\n",
              "</div>\n",
              "      <button class=\"colab-df-convert\" onclick=\"convertToInteractive('df-f0e8d4f5-0edf-4f93-9f59-5bd4a70b9079')\"\n",
              "              title=\"Convert this dataframe to an interactive table.\"\n",
              "              style=\"display:none;\">\n",
              "        \n",
              "  <svg xmlns=\"http://www.w3.org/2000/svg\" height=\"24px\"viewBox=\"0 0 24 24\"\n",
              "       width=\"24px\">\n",
              "    <path d=\"M0 0h24v24H0V0z\" fill=\"none\"/>\n",
              "    <path d=\"M18.56 5.44l.94 2.06.94-2.06 2.06-.94-2.06-.94-.94-2.06-.94 2.06-2.06.94zm-11 1L8.5 8.5l.94-2.06 2.06-.94-2.06-.94L8.5 2.5l-.94 2.06-2.06.94zm10 10l.94 2.06.94-2.06 2.06-.94-2.06-.94-.94-2.06-.94 2.06-2.06.94z\"/><path d=\"M17.41 7.96l-1.37-1.37c-.4-.4-.92-.59-1.43-.59-.52 0-1.04.2-1.43.59L10.3 9.45l-7.72 7.72c-.78.78-.78 2.05 0 2.83L4 21.41c.39.39.9.59 1.41.59.51 0 1.02-.2 1.41-.59l7.78-7.78 2.81-2.81c.8-.78.8-2.07 0-2.86zM5.41 20L4 18.59l7.72-7.72 1.47 1.35L5.41 20z\"/>\n",
              "  </svg>\n",
              "      </button>\n",
              "      \n",
              "  <style>\n",
              "    .colab-df-container {\n",
              "      display:flex;\n",
              "      flex-wrap:wrap;\n",
              "      gap: 12px;\n",
              "    }\n",
              "\n",
              "    .colab-df-convert {\n",
              "      background-color: #E8F0FE;\n",
              "      border: none;\n",
              "      border-radius: 50%;\n",
              "      cursor: pointer;\n",
              "      display: none;\n",
              "      fill: #1967D2;\n",
              "      height: 32px;\n",
              "      padding: 0 0 0 0;\n",
              "      width: 32px;\n",
              "    }\n",
              "\n",
              "    .colab-df-convert:hover {\n",
              "      background-color: #E2EBFA;\n",
              "      box-shadow: 0px 1px 2px rgba(60, 64, 67, 0.3), 0px 1px 3px 1px rgba(60, 64, 67, 0.15);\n",
              "      fill: #174EA6;\n",
              "    }\n",
              "\n",
              "    [theme=dark] .colab-df-convert {\n",
              "      background-color: #3B4455;\n",
              "      fill: #D2E3FC;\n",
              "    }\n",
              "\n",
              "    [theme=dark] .colab-df-convert:hover {\n",
              "      background-color: #434B5C;\n",
              "      box-shadow: 0px 1px 3px 1px rgba(0, 0, 0, 0.15);\n",
              "      filter: drop-shadow(0px 1px 2px rgba(0, 0, 0, 0.3));\n",
              "      fill: #FFFFFF;\n",
              "    }\n",
              "  </style>\n",
              "\n",
              "      <script>\n",
              "        const buttonEl =\n",
              "          document.querySelector('#df-f0e8d4f5-0edf-4f93-9f59-5bd4a70b9079 button.colab-df-convert');\n",
              "        buttonEl.style.display =\n",
              "          google.colab.kernel.accessAllowed ? 'block' : 'none';\n",
              "\n",
              "        async function convertToInteractive(key) {\n",
              "          const element = document.querySelector('#df-f0e8d4f5-0edf-4f93-9f59-5bd4a70b9079');\n",
              "          const dataTable =\n",
              "            await google.colab.kernel.invokeFunction('convertToInteractive',\n",
              "                                                     [key], {});\n",
              "          if (!dataTable) return;\n",
              "\n",
              "          const docLinkHtml = 'Like what you see? Visit the ' +\n",
              "            '<a target=\"_blank\" href=https://colab.research.google.com/notebooks/data_table.ipynb>data table notebook</a>'\n",
              "            + ' to learn more about interactive tables.';\n",
              "          element.innerHTML = '';\n",
              "          dataTable['output_type'] = 'display_data';\n",
              "          await google.colab.output.renderOutput(dataTable, element);\n",
              "          const docLink = document.createElement('div');\n",
              "          docLink.innerHTML = docLinkHtml;\n",
              "          element.appendChild(docLink);\n",
              "        }\n",
              "      </script>\n",
              "    </div>\n",
              "  </div>\n",
              "  "
            ]
          },
          "metadata": {},
          "execution_count": 6
        }
      ],
      "source": [
        "train = pd.read_csv('/content/drive/MyDrive/Colab Notebooks/Aircraft/fgvc-aircraft-2013b/train.csv')\n",
        "val = pd.read_csv('/content/drive/MyDrive/Colab Notebooks/Aircraft/fgvc-aircraft-2013b/val.csv')\n",
        "test = pd.read_csv('/content/drive/MyDrive/Colab Notebooks/Aircraft/fgvc-aircraft-2013b/test.csv')\n",
        "train.head()"
      ]
    },
    {
      "cell_type": "code",
      "execution_count": 7,
      "metadata": {
        "colab": {
          "base_uri": "https://localhost:8080/"
        },
        "id": "NyGrHF0D79SR",
        "outputId": "60bb82ba-f37d-42a4-8f38-308bb1c0f327"
      },
      "outputs": [
        {
          "output_type": "stream",
          "name": "stdout",
          "text": [
            "['/content/drive/MyDrive/Colab Notebooks/Aircraft/fgvc-aircraft-2013b/data/images/1025794.jpg'\n",
            " '/content/drive/MyDrive/Colab Notebooks/Aircraft/fgvc-aircraft-2013b/data/images/1340192.jpg'\n",
            " '/content/drive/MyDrive/Colab Notebooks/Aircraft/fgvc-aircraft-2013b/data/images/0056978.jpg'\n",
            " ...\n",
            " '/content/drive/MyDrive/Colab Notebooks/Aircraft/fgvc-aircraft-2013b/data/images/0472681.jpg'\n",
            " '/content/drive/MyDrive/Colab Notebooks/Aircraft/fgvc-aircraft-2013b/data/images/1597829.jpg'\n",
            " '/content/drive/MyDrive/Colab Notebooks/Aircraft/fgvc-aircraft-2013b/data/images/0197891.jpg']\n"
          ]
        },
        {
          "output_type": "execute_result",
          "data": {
            "text/plain": [
              "(3334, 100)"
            ]
          },
          "metadata": {},
          "execution_count": 7
        }
      ],
      "source": [
        "tpath = \"/content/drive/MyDrive/Colab Notebooks/Aircraft/fgvc-aircraft-2013b/data/images/\"\n",
        "train_paths = train.filename.apply(lambda x: os.path.join(tpath, x))\n",
        "print(train_paths.values)\n",
        "# convert to one-hot-encoding-labels\n",
        "train_LABELS = to_categorical(train.Labels)\n",
        "train_LABELS.shape"
      ]
    },
    {
      "cell_type": "code",
      "execution_count": 8,
      "metadata": {
        "colab": {
          "base_uri": "https://localhost:8080/"
        },
        "id": "GbIseV3I79SR",
        "outputId": "6ef14d78-4312-440b-bc51-3b7e7239b0a0"
      },
      "outputs": [
        {
          "output_type": "stream",
          "name": "stdout",
          "text": [
            "['/content/drive/MyDrive/Colab Notebooks/Aircraft/fgvc-aircraft-2013b/data/images/0481847.jpg'\n",
            " '/content/drive/MyDrive/Colab Notebooks/Aircraft/fgvc-aircraft-2013b/data/images/0810608.jpg'\n",
            " '/content/drive/MyDrive/Colab Notebooks/Aircraft/fgvc-aircraft-2013b/data/images/1514481.jpg'\n",
            " ...\n",
            " '/content/drive/MyDrive/Colab Notebooks/Aircraft/fgvc-aircraft-2013b/data/images/1340345.jpg'\n",
            " '/content/drive/MyDrive/Colab Notebooks/Aircraft/fgvc-aircraft-2013b/data/images/0765754.jpg'\n",
            " '/content/drive/MyDrive/Colab Notebooks/Aircraft/fgvc-aircraft-2013b/data/images/1594714.jpg']\n"
          ]
        },
        {
          "output_type": "execute_result",
          "data": {
            "text/plain": [
              "(3333, 100)"
            ]
          },
          "metadata": {},
          "execution_count": 8
        }
      ],
      "source": [
        "tpath = \"/content/drive/MyDrive/Colab Notebooks/Aircraft/fgvc-aircraft-2013b/data/images/\"\n",
        "val_paths = val.filename.apply(lambda x: os.path.join(tpath, x))\n",
        "print(val_paths.values)\n",
        "# convert to one-hot-encoding-labels\n",
        "val_LABELS = to_categorical(val.Labels)\n",
        "val_LABELS.shape"
      ]
    },
    {
      "cell_type": "code",
      "execution_count": 9,
      "metadata": {
        "colab": {
          "base_uri": "https://localhost:8080/"
        },
        "id": "_LImwsQE79SS",
        "outputId": "0ac92aeb-28e4-4643-f0db-d359b68125fb"
      },
      "outputs": [
        {
          "output_type": "stream",
          "name": "stdout",
          "text": [
            "['/content/drive/MyDrive/Colab Notebooks/Aircraft/fgvc-aircraft-2013b/data/images/1514522.jpg'\n",
            " '/content/drive/MyDrive/Colab Notebooks/Aircraft/fgvc-aircraft-2013b/data/images/0747566.jpg'\n",
            " '/content/drive/MyDrive/Colab Notebooks/Aircraft/fgvc-aircraft-2013b/data/images/1008575.jpg'\n",
            " ...\n",
            " '/content/drive/MyDrive/Colab Notebooks/Aircraft/fgvc-aircraft-2013b/data/images/0329381.jpg'\n",
            " '/content/drive/MyDrive/Colab Notebooks/Aircraft/fgvc-aircraft-2013b/data/images/0523192.jpg'\n",
            " '/content/drive/MyDrive/Colab Notebooks/Aircraft/fgvc-aircraft-2013b/data/images/0810303.jpg']\n"
          ]
        },
        {
          "output_type": "execute_result",
          "data": {
            "text/plain": [
              "(3333,)"
            ]
          },
          "metadata": {},
          "execution_count": 9
        }
      ],
      "source": [
        "tpath = \"/content/drive/MyDrive/Colab Notebooks/Aircraft/fgvc-aircraft-2013b/data/images\"\n",
        "test_paths = test.filename.apply(lambda x: os.path.join(tpath, x))\n",
        "print(test_paths.values)\n",
        "# not convert to categorical\n",
        "test_labels = test.Labels.values \n",
        "test_labels.shape"
      ]
    },
    {
      "cell_type": "markdown",
      "source": [
        "# Data preprocessing "
      ],
      "metadata": {
        "id": "zL0rYHnKfgkg"
      }
    },
    {
      "cell_type": "code",
      "execution_count": 10,
      "metadata": {
        "id": "BVyOgzGH79SS"
      },
      "outputs": [],
      "source": [
        "# Nimage_size = (400,400)\n",
        "\n",
        "def decode_image(filename, label=None, image_size=(299, 299)):\n",
        "    bits = tf.io.read_file(filename)\n",
        "    image = tf.image.decode_jpeg(bits, channels=3)\n",
        "    image = tf.cast(image, tf.float32) / 255.0\n",
        "    image = tf.image.resize(image, image_size)\n",
        "    \n",
        "    if label is None:\n",
        "        return image\n",
        "    else:\n",
        "        return image, label\n",
        "\n",
        "def augment_1(image, label=None):\n",
        "    image = tf.image.random_flip_left_right(image, seed = 42)\n",
        "    \n",
        "    if label is None:\n",
        "        return image\n",
        "    else:\n",
        "        return image, label\n",
        "\n",
        "def augment_2(image, label=None):\n",
        "    image = tf.image.random_contrast(image, lower=0.0, upper=1.0, seed = 42)\n",
        "\n",
        "    if label is None:\n",
        "        return image\n",
        "    else:\n",
        "        return image, label\n",
        "\n",
        "def augment_3(image, label=None):\n",
        "    image = tf.image.random_flip_up_down(image, seed= 42)\n",
        "\n",
        "    if label is None:\n",
        "        return image\n",
        "    else:\n",
        "        return image, label\n",
        "\n",
        "def augment_4(image, label=None):\n",
        "    image = tf.image.random_flip_up_down(image, seed= 42)\n",
        "\n",
        "    if label is None:\n",
        "        return image\n",
        "    else:\n",
        "        return image, label\n",
        "    \n",
        "def augment_5(image, label=None):\n",
        "    image = tf.image.adjust_brightness(image, delta=0.1)\n",
        "\n",
        "    if label is None:\n",
        "        return image\n",
        "    else:\n",
        "        return image, label\n",
        "\n",
        "def augment_6(image, label=None):\n",
        "    image = tf.image.adjust_contrast(image, 2.)\n",
        "\n",
        "    if label is None:\n",
        "        return image\n",
        "    else:\n",
        "        return image, label\n",
        "\n",
        "def augment_7(image, label=None):\n",
        "    image = tf.image.adjust_gamma(image, gamma=1, gain=1)\n",
        "\n",
        "    if label is None:\n",
        "        return image\n",
        "    else:\n",
        "        return image, label"
      ]
    },
    {
      "cell_type": "code",
      "execution_count": 11,
      "metadata": {
        "id": "FkeZ2Xzm79SS"
      },
      "outputs": [],
      "source": [
        "batch_size = 16\n",
        "\n",
        "train_dataset = (\n",
        "    tf.data.Dataset\n",
        "    .from_tensor_slices((train_paths, train_LABELS))\n",
        "    .map(decode_image, num_parallel_calls=AUTO)\n",
        "    .map(augment_1, num_parallel_calls=AUTO)\n",
        "    .map(augment_2, num_parallel_calls=AUTO)\n",
        "    .map(augment_3, num_parallel_calls=AUTO)\n",
        "    .map(augment_4, num_parallel_calls=AUTO)\n",
        "    .map(augment_5, num_parallel_calls=AUTO)\n",
        "    .map(augment_6, num_parallel_calls=AUTO)\n",
        "    .map(augment_7, num_parallel_calls=AUTO)\n",
        "    .repeat()\n",
        "    .shuffle(2048)\n",
        "    .batch(batch_size)\n",
        "    .prefetch(AUTO)\n",
        ")\n",
        "\n",
        "val_dataset = (tf.data.Dataset\n",
        "        .from_tensor_slices((val_paths, val_LABELS))\n",
        "        .map(decode_image, num_parallel_calls=AUTO)\n",
        "        .batch(batch_size)\n",
        ")\n",
        "\n",
        "test_dataset = (tf.data.Dataset\n",
        "        .from_tensor_slices(test_paths)\n",
        "        .map(decode_image, num_parallel_calls=AUTO)\n",
        "        .batch(batch_size)\n",
        ")"
      ]
    },
    {
      "cell_type": "markdown",
      "source": [
        "# Train model"
      ],
      "metadata": {
        "id": "pirh7ZpzfnD6"
      }
    },
    {
      "cell_type": "code",
      "source": [
        "def MoE_model(input_shape, list_experts, num_experts):\n",
        "\n",
        "    def expert_block(input, name_pretrained) :\n",
        "\n",
        "        try :\n",
        "            base_model = getattr(tf.keras.applications, name_pretrained)( include_top=False,\n",
        "                                                            weights=\"imagenet\",\n",
        "                                                            ) (input)\n",
        "\n",
        "        except AttributeError:\n",
        "            print(\"There's no item with that code\")\n",
        "            return None\n",
        "\n",
        "\n",
        "        \n",
        "        x = Dropout(0.5)(base_model)\n",
        "        x = GlobalAveragePooling2D()(x)\n",
        "        x = BatchNormalization()(x)\n",
        "        x = Dense(200,activation='relu')(x)\n",
        "        x = BatchNormalization()(x)\n",
        "        x = Dropout(0.5)(x)\n",
        "        output = Dense(100, activation = 'linear')(x)\n",
        "        return output\n",
        "\n",
        "    def Mixture_of_Experts(input, list_name_pretrained , num_experts) :\n",
        "        assert len(list_name_pretrained) == num_experts\n",
        "        expert_outs = []\n",
        "        for i in range(num_experts):\n",
        "                expert_network = expert_block(input, list_name_pretrained[i])\n",
        "                expert_outs.append(expert_network)       \n",
        "        expert_concat = tf.keras.layers.Lambda(lambda x: tf.stack(x, axis=1))(expert_outs)\n",
        "        print('expert concat shape : ', expert_concat.shape)\n",
        "        # gating network \n",
        "        gating = Conv2D(filters = 30,\n",
        "                      kernel_size = (3,3) ,\n",
        "                      activation = tf.nn.relu )(input)\n",
        "        gating = MaxPooling2D(pool_size=(2, 2))(gating)\n",
        "        gating = BatchNormalization()(gating)\n",
        "        gating = Flatten()(gating)\n",
        "        # ------------------------------------------------\n",
        "        gating = Dense(300, activation = tf.nn.relu)(gating)\n",
        "        gating = BatchNormalization()(gating)\n",
        "        gating = Dropout(rate = 0.2)(gating)\n",
        "        # -----------------\n",
        "        gating = Dense(120, activation = tf.nn.relu)(gating)\n",
        "        gating = BatchNormalization()(gating)\n",
        "        gating = Dropout(rate = 0.2)(gating)\n",
        "        # -----------------\n",
        "        gating = Dense(num_experts, activation = tf.nn.softmax)(gating)\n",
        "        gating = tf.keras.layers.Lambda(lambda x: tf.expand_dims(x, axis=-1))(gating)\n",
        "        gate_mul_expert = tf.keras.layers.Lambda(lambda x: tf.math.reduce_sum(x[0] * x[1], axis=1),\n",
        "                                                 name='gate_mul_expert')([expert_concat, gating])\n",
        "        gate_mul_expert = tf.keras.layers.Softmax()(gate_mul_expert)\n",
        "        print('gate mul expert shape : ', gate_mul_expert.shape)\n",
        "        return gate_mul_expert\n",
        "    \n",
        "    assert len(list_experts) == num_experts\n",
        "    # names = '0'\n",
        "    # set_seed(0)\n",
        "    #------------------------------------------\n",
        "    input = Input(shape =  input_shape)\n",
        "    output = Mixture_of_Experts(input, list_experts , num_experts)\n",
        "\n",
        "\n",
        "    \n",
        "    model = Model(inputs=[input], outputs=output)\n",
        "    return model"
      ],
      "metadata": {
        "id": "BhLJDIqx7nWh"
      },
      "execution_count": 12,
      "outputs": []
    },
    {
      "cell_type": "code",
      "execution_count": 13,
      "metadata": {
        "colab": {
          "base_uri": "https://localhost:8080/"
        },
        "id": "lfxlCEAW79SU",
        "outputId": "46fd1455-34b2-4d27-a148-354b5c172b0e"
      },
      "outputs": [
        {
          "output_type": "stream",
          "name": "stdout",
          "text": [
            "expert concat shape :  (None, 3, 100)\n",
            "gate mul expert shape :  (None, 100)\n",
            "Model: \"model\"\n",
            "__________________________________________________________________________________________________\n",
            " Layer (type)                   Output Shape         Param #     Connected to                     \n",
            "==================================================================================================\n",
            " input_1 (InputLayer)           [(None, 299, 299, 3  0           []                               \n",
            "                                )]                                                                \n",
            "                                                                                                  \n",
            " conv2d_297 (Conv2D)            (None, 297, 297, 30  840         ['input_1[0][0]']                \n",
            "                                )                                                                 \n",
            "                                                                                                  \n",
            " max_pooling2d_8 (MaxPooling2D)  (None, 148, 148, 30  0          ['conv2d_297[0][0]']             \n",
            "                                )                                                                 \n",
            "                                                                                                  \n",
            " batch_normalization_303 (Batch  (None, 148, 148, 30  120        ['max_pooling2d_8[0][0]']        \n",
            " Normalization)                 )                                                                 \n",
            "                                                                                                  \n",
            " inception_resnet_v2 (Functiona  (None, None, None,   54336736   ['input_1[0][0]']                \n",
            " l)                             1536)                                                             \n",
            "                                                                                                  \n",
            " inception_v3 (Functional)      (None, None, None,   21802784    ['input_1[0][0]']                \n",
            "                                2048)                                                             \n",
            "                                                                                                  \n",
            " resnet50 (Functional)          (None, None, None,   23587712    ['input_1[0][0]']                \n",
            "                                2048)                                                             \n",
            "                                                                                                  \n",
            " flatten (Flatten)              (None, 657120)       0           ['batch_normalization_303[0][0]']\n",
            "                                                                                                  \n",
            " dropout (Dropout)              (None, 8, 8, 1536)   0           ['inception_resnet_v2[0][0]']    \n",
            "                                                                                                  \n",
            " dropout_2 (Dropout)            (None, 8, 8, 2048)   0           ['inception_v3[0][0]']           \n",
            "                                                                                                  \n",
            " dropout_4 (Dropout)            (None, 10, 10, 2048  0           ['resnet50[0][0]']               \n",
            "                                )                                                                 \n",
            "                                                                                                  \n",
            " dense_6 (Dense)                (None, 300)          197136300   ['flatten[0][0]']                \n",
            "                                                                                                  \n",
            " global_average_pooling2d (Glob  (None, 1536)        0           ['dropout[0][0]']                \n",
            " alAveragePooling2D)                                                                              \n",
            "                                                                                                  \n",
            " global_average_pooling2d_1 (Gl  (None, 2048)        0           ['dropout_2[0][0]']              \n",
            " obalAveragePooling2D)                                                                            \n",
            "                                                                                                  \n",
            " global_average_pooling2d_2 (Gl  (None, 2048)        0           ['dropout_4[0][0]']              \n",
            " obalAveragePooling2D)                                                                            \n",
            "                                                                                                  \n",
            " batch_normalization_304 (Batch  (None, 300)         1200        ['dense_6[0][0]']                \n",
            " Normalization)                                                                                   \n",
            "                                                                                                  \n",
            " batch_normalization_203 (Batch  (None, 1536)        6144        ['global_average_pooling2d[0][0]'\n",
            " Normalization)                                                  ]                                \n",
            "                                                                                                  \n",
            " batch_normalization_299 (Batch  (None, 2048)        8192        ['global_average_pooling2d_1[0][0\n",
            " Normalization)                                                  ]']                              \n",
            "                                                                                                  \n",
            " batch_normalization_301 (Batch  (None, 2048)        8192        ['global_average_pooling2d_2[0][0\n",
            " Normalization)                                                  ]']                              \n",
            "                                                                                                  \n",
            " dropout_6 (Dropout)            (None, 300)          0           ['batch_normalization_304[0][0]']\n",
            "                                                                                                  \n",
            " dense (Dense)                  (None, 200)          307400      ['batch_normalization_203[0][0]']\n",
            "                                                                                                  \n",
            " dense_2 (Dense)                (None, 200)          409800      ['batch_normalization_299[0][0]']\n",
            "                                                                                                  \n",
            " dense_4 (Dense)                (None, 200)          409800      ['batch_normalization_301[0][0]']\n",
            "                                                                                                  \n",
            " dense_7 (Dense)                (None, 120)          36120       ['dropout_6[0][0]']              \n",
            "                                                                                                  \n",
            " batch_normalization_204 (Batch  (None, 200)         800         ['dense[0][0]']                  \n",
            " Normalization)                                                                                   \n",
            "                                                                                                  \n",
            " batch_normalization_300 (Batch  (None, 200)         800         ['dense_2[0][0]']                \n",
            " Normalization)                                                                                   \n",
            "                                                                                                  \n",
            " batch_normalization_302 (Batch  (None, 200)         800         ['dense_4[0][0]']                \n",
            " Normalization)                                                                                   \n",
            "                                                                                                  \n",
            " batch_normalization_305 (Batch  (None, 120)         480         ['dense_7[0][0]']                \n",
            " Normalization)                                                                                   \n",
            "                                                                                                  \n",
            " dropout_1 (Dropout)            (None, 200)          0           ['batch_normalization_204[0][0]']\n",
            "                                                                                                  \n",
            " dropout_3 (Dropout)            (None, 200)          0           ['batch_normalization_300[0][0]']\n",
            "                                                                                                  \n",
            " dropout_5 (Dropout)            (None, 200)          0           ['batch_normalization_302[0][0]']\n",
            "                                                                                                  \n",
            " dropout_7 (Dropout)            (None, 120)          0           ['batch_normalization_305[0][0]']\n",
            "                                                                                                  \n",
            " dense_1 (Dense)                (None, 100)          20100       ['dropout_1[0][0]']              \n",
            "                                                                                                  \n",
            " dense_3 (Dense)                (None, 100)          20100       ['dropout_3[0][0]']              \n",
            "                                                                                                  \n",
            " dense_5 (Dense)                (None, 100)          20100       ['dropout_5[0][0]']              \n",
            "                                                                                                  \n",
            " dense_8 (Dense)                (None, 3)            363         ['dropout_7[0][0]']              \n",
            "                                                                                                  \n",
            " lambda (Lambda)                (None, 3, 100)       0           ['dense_1[0][0]',                \n",
            "                                                                  'dense_3[0][0]',                \n",
            "                                                                  'dense_5[0][0]']                \n",
            "                                                                                                  \n",
            " lambda_1 (Lambda)              (None, 3, 1)         0           ['dense_8[0][0]']                \n",
            "                                                                                                  \n",
            " gate_mul_expert (Lambda)       (None, 100)          0           ['lambda[0][0]',                 \n",
            "                                                                  'lambda_1[0][0]']               \n",
            "                                                                                                  \n",
            " softmax (Softmax)              (None, 100)          0           ['gate_mul_expert[0][0]']        \n",
            "                                                                                                  \n",
            "==================================================================================================\n",
            "Total params: 298,114,883\n",
            "Trainable params: 297,953,423\n",
            "Non-trainable params: 161,460\n",
            "__________________________________________________________________________________________________\n"
          ]
        }
      ],
      "source": [
        "input_shape = (299,299,3)\n",
        "list_experts = [\"InceptionResNetV2\", \"InceptionV3\", \"ResNet50\"]\n",
        "num_experts = 3\n",
        "model = MoE_model(input_shape, list_experts, num_experts)\n",
        "model.summary()"
      ]
    },
    {
      "cell_type": "code",
      "execution_count": 14,
      "metadata": {
        "id": "osSCs7CG79SU"
      },
      "outputs": [],
      "source": [
        "def Train_model(model, batch_size, EPOCHS, path):\n",
        "    \n",
        "    n_steps = train_LABELS.shape[0] // batch_size\n",
        "\n",
        "\n",
        "    # Model = model\n",
        "\n",
        "    model.compile(\n",
        "                 optimizer = tf.keras.optimizers.Adadelta(learning_rate= 1, rho=0.95, epsilon=1e-08, decay=0.0),\n",
        "                 loss = keras.losses.CategoricalCrossentropy(name='categorical_crossentropy'),\n",
        "                 metrics = [\n",
        "                            keras.metrics.CategoricalAccuracy(name='categorical_accuracy'),                        \n",
        "                           ]\n",
        "    )\n",
        "    callback = ModelCheckpoint(path, \n",
        "                               monitor='val_categorical_accuracy', \n",
        "                               verbose=1, \n",
        "                               save_best_only=True,\n",
        "                               mode='max')\n",
        "    \n",
        "    history_1 = model.fit(train_dataset ,\n",
        "                          steps_per_epoch = n_steps,  \n",
        "                          epochs=  EPOCHS, \n",
        "                          batch_size = batch_size , \n",
        "                          validation_data = val_dataset,\n",
        "                          callbacks = [callback]\n",
        "                        )\n",
        "    \n",
        "    return model"
      ]
    },
    {
      "cell_type": "code",
      "source": [
        "# define parameters \n",
        "path = \"/content/drive/MyDrive/Colab Notebooks/Aircraft/fgvc-aircraft-2013b/data/train_test_val/MoPT.hdf5\"\n",
        "batch_size = 16\n",
        "EPOCHS = 60"
      ],
      "metadata": {
        "id": "4quiDAfetMc3"
      },
      "execution_count": 15,
      "outputs": []
    },
    {
      "cell_type": "code",
      "execution_count": null,
      "metadata": {
        "colab": {
          "base_uri": "https://localhost:8080/"
        },
        "id": "g9xwBU2y79SV",
        "outputId": "2be751c7-66f5-4cd1-cdc5-c4ccdc49f1aa"
      },
      "outputs": [
        {
          "output_type": "stream",
          "name": "stdout",
          "text": [
            "Training\n",
            "Epoch 1/60\n"
          ]
        }
      ],
      "source": [
        "\n",
        "print('Training')\n",
        "model = Train_model(model, batch_size, EPOCHS,path)\n"
      ]
    },
    {
      "cell_type": "code",
      "source": [
        ""
      ],
      "metadata": {
        "id": "GvV-HZOBB0bD"
      },
      "execution_count": null,
      "outputs": []
    },
    {
      "cell_type": "code",
      "execution_count": 24,
      "metadata": {
        "id": "REFgfqRiRMhm"
      },
      "outputs": [],
      "source": [
        "# print(\"best model: \")\n",
        "# EPOCHS = 60\n",
        "# model.load_weights(\"/content/drive/MyDrive/Colab Notebooks/Aircraft/fgvc-aircraft-2013b/data/train_test_val/MoE_4.hdf5\")\n",
        "# model.compile(\n",
        "#                 optimizer = tf.keras.optimizers.Adadelta(learning_rate= 1, rho=0.95, epsilon=1e-08, decay=0.0),\n",
        "#                 loss = keras.losses.CategoricalCrossentropy(name='categorical_crossentropy'),\n",
        "#                 metrics = [\n",
        "#                         keras.metrics.CategoricalAccuracy(name='categorical_accuracy'),                        \n",
        "#                         ]\n",
        "# )\n",
        "\n",
        "\n",
        "# n_steps = train_LABELS.shape[0] // batch_size\n",
        "\n",
        "# f1_callback_concat = ModelCheckpoint(\"/content/drive/MyDrive/Colab Notebooks/Aircraft/fgvc-aircraft-2013b/data/train_test_val/MoE_5.hdf5\", \n",
        "#                             monitor='val_categorical_accuracy', \n",
        "#                             verbose=1, \n",
        "#                             save_best_only=True,\n",
        "#                             mode='max')\n",
        "\n",
        "\n",
        "# history_1 = model.fit(  train_dataset , \n",
        "#                         steps_per_epoch = n_steps,  \n",
        "#                         epochs= EPOCHS, \n",
        "#                         batch_size = batch_size , \n",
        "#                         validation_data = val_dataset,\n",
        "#                         callbacks = [f1_callback_concat]\n",
        "#                         )\n"
      ]
    },
    {
      "cell_type": "markdown",
      "source": [
        "# Evaluate model"
      ],
      "metadata": {
        "id": "It6zUGwFni6C"
      }
    },
    {
      "cell_type": "code",
      "source": [
        "path = \"/content/drive/MyDrive/Colab Notebooks/Aircraft/fgvc-aircraft-2013b/data/train_test_val/MoPT.hdf5\""
      ],
      "metadata": {
        "id": "ZNrxChRwwc_Z"
      },
      "execution_count": 16,
      "outputs": []
    },
    {
      "cell_type": "code",
      "execution_count": 17,
      "metadata": {
        "id": "tcoxfpE-rDdr",
        "colab": {
          "base_uri": "https://localhost:8080/"
        },
        "outputId": "f7e3f509-24b5-435e-f5c3-9289ff1bb14a"
      },
      "outputs": [
        {
          "output_type": "stream",
          "name": "stdout",
          "text": [
            "best model \n"
          ]
        }
      ],
      "source": [
        "print(\"best model \")\n",
        "model.load_weights(path)\n",
        "model.compile(\n",
        "                optimizer = tf.keras.optimizers.Adadelta(learning_rate= 1, rho=0.95, epsilon=1e-08, decay=0.0),\n",
        "                loss = keras.losses.CategoricalCrossentropy(name='categorical_crossentropy'),\n",
        "                metrics = \n",
        "                        [keras.metrics.CategoricalAccuracy(name='categorical_accuracy')]\n",
        ")"
      ]
    },
    {
      "cell_type": "code",
      "source": [
        "pred = model.predict(test_dataset)\n",
        "print(\"Accuracy on Test Set : \",accuracy_score(test_labels, np.argmax(pred,axis = 1)))"
      ],
      "metadata": {
        "colab": {
          "base_uri": "https://localhost:8080/"
        },
        "outputId": "4645f6f2-8ce7-4629-ca3c-09e9537e29b2",
        "id": "EiZ4AFvPwYRa"
      },
      "execution_count": 18,
      "outputs": [
        {
          "output_type": "stream",
          "name": "stdout",
          "text": [
            "Accuracy on Test Set :  0.8157815781578158\n"
          ]
        }
      ]
    },
    {
      "cell_type": "code",
      "source": [
        ""
      ],
      "metadata": {
        "id": "yfCCtDrDIqOd"
      },
      "execution_count": null,
      "outputs": []
    }
  ],
  "metadata": {
    "accelerator": "GPU",
    "colab": {
      "collapsed_sections": [
        "f50kgNjgfbcj",
        "t0TzIfAGfeta",
        "zL0rYHnKfgkg"
      ],
      "machine_shape": "hm",
      "name": "MoPT.ipynb",
      "provenance": []
    },
    "kernelspec": {
      "display_name": "Python 3",
      "language": "python",
      "name": "python3"
    },
    "language_info": {
      "codemirror_mode": {
        "name": "ipython",
        "version": 3
      },
      "file_extension": ".py",
      "mimetype": "text/x-python",
      "name": "python",
      "nbconvert_exporter": "python",
      "pygments_lexer": "ipython3",
      "version": "3.7.6"
    }
  },
  "nbformat": 4,
  "nbformat_minor": 0
}